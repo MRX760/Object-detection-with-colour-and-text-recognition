{
 "cells": [
  {
   "cell_type": "code",
   "execution_count": 46,
   "id": "ce0748ca-36c5-4ea4-80d2-4f3ede656452",
   "metadata": {},
   "outputs": [],
   "source": [
    "import json\n",
    "\n",
    "# Step 1: Open the JSON file\n",
    "with open('dict.json', 'r') as file:\n",
    "    # Step 2: Load the JSON data\n",
    "    data = json.load(file)\n",
    "words = []"
   ]
  },
  {
   "cell_type": "code",
   "execution_count": 48,
   "id": "01c0b07e-70e6-4475-a586-581f266cef84",
   "metadata": {
    "scrolled": true
   },
   "outputs": [],
   "source": [
    "for idx, (key, value) in enumerate(data.items()):\n",
    "    # if idx < 10:\n",
    "    #     print(f\"{key}: {value}\\n\")\n",
    "    # else:\n",
    "    #     break\n",
    "    if key not in words:\n",
    "        words.append(key)\n",
    "    for i in value['sinonim']:\n",
    "        if i not in words: #check if there's already exist\n",
    "            word = i.split()\n",
    "            if len(word)==1 and \"(\" not in i:\n",
    "                words.append(i) #add the words\n",
    "            else:\n",
    "                continue"
   ]
  },
  {
   "cell_type": "code",
   "execution_count": 50,
   "id": "4242b303-ee6e-4191-9d63-2ff4d786da57",
   "metadata": {},
   "outputs": [
    {
     "name": "stdout",
     "output_type": "stream",
     "text": [
      "['mengaras', 'mencapai', 'mencecah', 'menjejak', 'menyentuh', 'memperdayai', 'melabu ', 'melebun', 'melecun', 'melibas']\n",
      "['a', 'aba', 'aba-aba', 'abad', 'abadi', 'abadiah', 'abah', 'abah-abah', 'abai', 'abaimana']\n"
     ]
    }
   ],
   "source": [
    "print(words[0:10])\n",
    "sorted_words = sorted(words, key=str.lower)\n",
    "print(sorted_words[0:10])"
   ]
  },
  {
   "cell_type": "code",
   "execution_count": 52,
   "id": "4bad7184-5d3e-4842-923f-d315a0f52b04",
   "metadata": {},
   "outputs": [],
   "source": [
    "with open('extracted_json.txt', 'w') as file:\n",
    "    # Write each word on a new line\n",
    "    for word in sorted_words:\n",
    "        file.write(word + '\\n')"
   ]
  },
  {
   "cell_type": "code",
   "execution_count": 69,
   "id": "1fdf4c2d-6777-41c1-9aa6-9e2bf8ca20b8",
   "metadata": {},
   "outputs": [],
   "source": [
    "# Step 1: Read the file and load the words into a list\n",
    "with open('all_combined_id_en.txt', 'r') as file:\n",
    "    words = file.readlines()\n",
    "\n",
    "# Step 2: Convert all words to lowercase and remove duplicates while preserving the first occurrence\n",
    "seen = set()\n",
    "filtered_word = []\n",
    "for word in words:\n",
    "    word = word.strip().lower()  # Convert to lowercase and strip trailing newline characters\n",
    "    if word not in seen:\n",
    "        filtered_word.append(word)\n",
    "        seen.add(word)\n",
    "\n",
    "# Step 3: Sort the unique words\n",
    "filtered_word.sort()\n",
    "\n",
    "# Step 4: Print or save the sorted unique words\n",
    "with open('filtered_sorted_words.txt', 'w') as file:\n",
    "    for word in filtered_word:\n",
    "        file.write(word + '\\n')\n"
   ]
  },
  {
   "cell_type": "code",
   "execution_count": 65,
   "id": "bb945c3c-fbe0-4744-9cb9-0ce742a51a90",
   "metadata": {},
   "outputs": [
    {
     "name": "stdout",
     "output_type": "stream",
     "text": [
      "mezbah\n",
      "\n",
      "keypress\n",
      "\n",
      "writhes\n",
      "\n",
      "chelicer\n",
      "\n",
      "lampate\n",
      "\n",
      "reink\n",
      "\n",
      "werst\n",
      "\n",
      "slickly\n",
      "\n",
      "grateless\n",
      "\n",
      "serotina\n",
      "\n"
     ]
    }
   ],
   "source": [
    "for idx,i in enumerate(seen):\n",
    "    if idx<10:\n",
    "        print(i)"
   ]
  },
  {
   "cell_type": "code",
   "execution_count": 68,
   "id": "9a9a6909-b234-4b31-921e-622af456af97",
   "metadata": {},
   "outputs": [
    {
     "ename": "AttributeError",
     "evalue": "'list' object has no attribute 'lower'",
     "output_type": "error",
     "traceback": [
      "\u001b[1;31m---------------------------------------------------------------------------\u001b[0m",
      "\u001b[1;31mAttributeError\u001b[0m                            Traceback (most recent call last)",
      "Cell \u001b[1;32mIn[68], line 2\u001b[0m\n\u001b[0;32m      1\u001b[0m a \u001b[38;5;241m=\u001b[39m [\u001b[38;5;124m\"\u001b[39m\u001b[38;5;124mWWWW\u001b[39m\u001b[38;5;124m\"\u001b[39m, \u001b[38;5;124m\"\u001b[39m\u001b[38;5;124mAAAA\u001b[39m\u001b[38;5;124m\"\u001b[39m]\n\u001b[1;32m----> 2\u001b[0m \u001b[38;5;28mprint\u001b[39m(\u001b[43ma\u001b[49m\u001b[38;5;241;43m.\u001b[39;49m\u001b[43mlower\u001b[49m())\n",
      "\u001b[1;31mAttributeError\u001b[0m: 'list' object has no attribute 'lower'"
     ]
    }
   ],
   "source": [
    "a = [\"WWWW\", \"AAAA\"]"
   ]
  }
 ],
 "metadata": {
  "kernelspec": {
   "display_name": "Python 3 (ipykernel)",
   "language": "python",
   "name": "python3"
  },
  "language_info": {
   "codemirror_mode": {
    "name": "ipython",
    "version": 3
   },
   "file_extension": ".py",
   "mimetype": "text/x-python",
   "name": "python",
   "nbconvert_exporter": "python",
   "pygments_lexer": "ipython3",
   "version": "3.8.19"
  }
 },
 "nbformat": 4,
 "nbformat_minor": 5
}
